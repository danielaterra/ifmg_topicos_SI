{
  "cells": [
    {
      "cell_type": "markdown",
      "metadata": {
        "id": "view-in-github",
        "colab_type": "text"
      },
      "source": [
        "<a href=\"https://colab.research.google.com/github/danielaterra/ifmg_topicos_SI/blob/main/TSP_Problem.ipynb\" target=\"_parent\"><img src=\"https://colab.research.google.com/assets/colab-badge.svg\" alt=\"Open In Colab\"/></a>"
      ]
    },
    {
      "cell_type": "markdown",
      "metadata": {
        "id": "bfVZRn3g4wWf"
      },
      "source": [
        "###  Problema do Caixeiro Viajante\n",
        "Solução baseada nos códigos disponíveis em: http://www.decom.ufop.br/prof/marcone/Disciplinas/InteligenciaComputacional/Aula%20IC%2018-09-2003.zip\n",
        "\n",
        "**Profa. Daniela Costa Terra**"
      ]
    },
    {
      "cell_type": "code",
      "execution_count": 1,
      "metadata": {
        "id": "q30_Tpqo4aI_"
      },
      "outputs": [],
      "source": [
        "import sys\n",
        "import numpy as np  # importa o pacote com 'alias' ou apelido de 'np'\n",
        "import math\n",
        "import matplotlib.pyplot as plt    # o módulo pyplot, parte do matplotlib, como plt\n",
        "np.random.seed(1000)    ## produz o mesmos numeros 'pseudo'aleatórios a cada execução"
      ]
    },
    {
      "cell_type": "code",
      "source": [
        "from google.colab import files\n",
        "uploaded = files.upload()    ## faça upload dos arquivos disponibilizados"
      ],
      "metadata": {
        "colab": {
          "base_uri": "https://localhost:8080/",
          "height": 144
        },
        "id": "VgCeNxKSIast",
        "outputId": "15937874-b099-4270-ae53-32a838f81493"
      },
      "execution_count": null,
      "outputs": [
        {
          "output_type": "display_data",
          "data": {
            "text/plain": [
              "<IPython.core.display.HTML object>"
            ],
            "text/html": [
              "\n",
              "     <input type=\"file\" id=\"files-3145b398-2c44-4031-a990-d0558258a3d9\" name=\"files[]\" multiple disabled\n",
              "        style=\"border:none\" />\n",
              "     <output id=\"result-3145b398-2c44-4031-a990-d0558258a3d9\">\n",
              "      Upload widget is only available when the cell has been executed in the\n",
              "      current browser session. Please rerun this cell to enable.\n",
              "      </output>\n",
              "      <script>// Copyright 2017 Google LLC\n",
              "//\n",
              "// Licensed under the Apache License, Version 2.0 (the \"License\");\n",
              "// you may not use this file except in compliance with the License.\n",
              "// You may obtain a copy of the License at\n",
              "//\n",
              "//      http://www.apache.org/licenses/LICENSE-2.0\n",
              "//\n",
              "// Unless required by applicable law or agreed to in writing, software\n",
              "// distributed under the License is distributed on an \"AS IS\" BASIS,\n",
              "// WITHOUT WARRANTIES OR CONDITIONS OF ANY KIND, either express or implied.\n",
              "// See the License for the specific language governing permissions and\n",
              "// limitations under the License.\n",
              "\n",
              "/**\n",
              " * @fileoverview Helpers for google.colab Python module.\n",
              " */\n",
              "(function(scope) {\n",
              "function span(text, styleAttributes = {}) {\n",
              "  const element = document.createElement('span');\n",
              "  element.textContent = text;\n",
              "  for (const key of Object.keys(styleAttributes)) {\n",
              "    element.style[key] = styleAttributes[key];\n",
              "  }\n",
              "  return element;\n",
              "}\n",
              "\n",
              "// Max number of bytes which will be uploaded at a time.\n",
              "const MAX_PAYLOAD_SIZE = 100 * 1024;\n",
              "\n",
              "function _uploadFiles(inputId, outputId) {\n",
              "  const steps = uploadFilesStep(inputId, outputId);\n",
              "  const outputElement = document.getElementById(outputId);\n",
              "  // Cache steps on the outputElement to make it available for the next call\n",
              "  // to uploadFilesContinue from Python.\n",
              "  outputElement.steps = steps;\n",
              "\n",
              "  return _uploadFilesContinue(outputId);\n",
              "}\n",
              "\n",
              "// This is roughly an async generator (not supported in the browser yet),\n",
              "// where there are multiple asynchronous steps and the Python side is going\n",
              "// to poll for completion of each step.\n",
              "// This uses a Promise to block the python side on completion of each step,\n",
              "// then passes the result of the previous step as the input to the next step.\n",
              "function _uploadFilesContinue(outputId) {\n",
              "  const outputElement = document.getElementById(outputId);\n",
              "  const steps = outputElement.steps;\n",
              "\n",
              "  const next = steps.next(outputElement.lastPromiseValue);\n",
              "  return Promise.resolve(next.value.promise).then((value) => {\n",
              "    // Cache the last promise value to make it available to the next\n",
              "    // step of the generator.\n",
              "    outputElement.lastPromiseValue = value;\n",
              "    return next.value.response;\n",
              "  });\n",
              "}\n",
              "\n",
              "/**\n",
              " * Generator function which is called between each async step of the upload\n",
              " * process.\n",
              " * @param {string} inputId Element ID of the input file picker element.\n",
              " * @param {string} outputId Element ID of the output display.\n",
              " * @return {!Iterable<!Object>} Iterable of next steps.\n",
              " */\n",
              "function* uploadFilesStep(inputId, outputId) {\n",
              "  const inputElement = document.getElementById(inputId);\n",
              "  inputElement.disabled = false;\n",
              "\n",
              "  const outputElement = document.getElementById(outputId);\n",
              "  outputElement.innerHTML = '';\n",
              "\n",
              "  const pickedPromise = new Promise((resolve) => {\n",
              "    inputElement.addEventListener('change', (e) => {\n",
              "      resolve(e.target.files);\n",
              "    });\n",
              "  });\n",
              "\n",
              "  const cancel = document.createElement('button');\n",
              "  inputElement.parentElement.appendChild(cancel);\n",
              "  cancel.textContent = 'Cancel upload';\n",
              "  const cancelPromise = new Promise((resolve) => {\n",
              "    cancel.onclick = () => {\n",
              "      resolve(null);\n",
              "    };\n",
              "  });\n",
              "\n",
              "  // Wait for the user to pick the files.\n",
              "  const files = yield {\n",
              "    promise: Promise.race([pickedPromise, cancelPromise]),\n",
              "    response: {\n",
              "      action: 'starting',\n",
              "    }\n",
              "  };\n",
              "\n",
              "  cancel.remove();\n",
              "\n",
              "  // Disable the input element since further picks are not allowed.\n",
              "  inputElement.disabled = true;\n",
              "\n",
              "  if (!files) {\n",
              "    return {\n",
              "      response: {\n",
              "        action: 'complete',\n",
              "      }\n",
              "    };\n",
              "  }\n",
              "\n",
              "  for (const file of files) {\n",
              "    const li = document.createElement('li');\n",
              "    li.append(span(file.name, {fontWeight: 'bold'}));\n",
              "    li.append(span(\n",
              "        `(${file.type || 'n/a'}) - ${file.size} bytes, ` +\n",
              "        `last modified: ${\n",
              "            file.lastModifiedDate ? file.lastModifiedDate.toLocaleDateString() :\n",
              "                                    'n/a'} - `));\n",
              "    const percent = span('0% done');\n",
              "    li.appendChild(percent);\n",
              "\n",
              "    outputElement.appendChild(li);\n",
              "\n",
              "    const fileDataPromise = new Promise((resolve) => {\n",
              "      const reader = new FileReader();\n",
              "      reader.onload = (e) => {\n",
              "        resolve(e.target.result);\n",
              "      };\n",
              "      reader.readAsArrayBuffer(file);\n",
              "    });\n",
              "    // Wait for the data to be ready.\n",
              "    let fileData = yield {\n",
              "      promise: fileDataPromise,\n",
              "      response: {\n",
              "        action: 'continue',\n",
              "      }\n",
              "    };\n",
              "\n",
              "    // Use a chunked sending to avoid message size limits. See b/62115660.\n",
              "    let position = 0;\n",
              "    do {\n",
              "      const length = Math.min(fileData.byteLength - position, MAX_PAYLOAD_SIZE);\n",
              "      const chunk = new Uint8Array(fileData, position, length);\n",
              "      position += length;\n",
              "\n",
              "      const base64 = btoa(String.fromCharCode.apply(null, chunk));\n",
              "      yield {\n",
              "        response: {\n",
              "          action: 'append',\n",
              "          file: file.name,\n",
              "          data: base64,\n",
              "        },\n",
              "      };\n",
              "\n",
              "      let percentDone = fileData.byteLength === 0 ?\n",
              "          100 :\n",
              "          Math.round((position / fileData.byteLength) * 100);\n",
              "      percent.textContent = `${percentDone}% done`;\n",
              "\n",
              "    } while (position < fileData.byteLength);\n",
              "  }\n",
              "\n",
              "  // All done.\n",
              "  yield {\n",
              "    response: {\n",
              "      action: 'complete',\n",
              "    }\n",
              "  };\n",
              "}\n",
              "\n",
              "scope.google = scope.google || {};\n",
              "scope.google.colab = scope.google.colab || {};\n",
              "scope.google.colab._files = {\n",
              "  _uploadFiles,\n",
              "  _uploadFilesContinue,\n",
              "};\n",
              "})(self);\n",
              "</script> "
            ]
          },
          "metadata": {}
        },
        {
          "output_type": "stream",
          "name": "stdout",
          "text": [
            "Saving C50.TXT to C50.TXT\n",
            "Saving c50-BestRoute.txt to c50-BestRoute.txt\n",
            "Saving C50INFO.TXT to C50INFO.TXT\n"
          ]
        }
      ]
    },
    {
      "cell_type": "code",
      "source": [
        "#TODO: def randomicodescida(n, s, matriz_dist, fo, MaxIter=100):\n",
        "\n",
        "#     print(\" ********** Falta implementar ************* \\n\")\n",
        "\n",
        "#     print(\"-------------------------------------------------\\n\")\n",
        "#     print(\"Melhor solucao encontrada pelo Metodo Randomico de descida:\\n\")\n",
        "#     print(\"Funcao objetivo: %d\\n\", fo)\n",
        "#     print(\"Peso da mochila: %d    Inviabilidade = ... \\n\",   )\n",
        "#     print(\"-------------------------------------------------\\n\")\n",
        "\n",
        "#TODO: def descida_fi(n, s, matriz_dist, fo):\n",
        "\n",
        "#     print(\" ********** Falta implementar ************* \\n\")\n",
        "\n",
        "#     print(\"-------------------------------------------------\\n\")\n",
        "#     print(\"Melhor solucao encontrada pelo Metodo da descida - first improvment:\\n\")\n",
        "#     print(\"Funcao objetivo: %d\\n\", fo)\n",
        "#     print(\"Peso da mochila: %d    Inviabilidade = ... \\n\",   )\n",
        "#     print(\"-------------------------------------------------\\n\")\n",
        "\n",
        "\n",
        "# Heurística de refinamento best improvment (Descida)\n",
        "def descida_bi(n, s, fo, matriz_dist):\n",
        "    melhor_fo = -1*np.sum(matriz_dist)\n",
        "    while (melhor_fo < fo):\n",
        "          melhor_fo = np.sum(matriz_dist)\n",
        "          ## Perturba soluçao atual:\n",
        "          for i in np.arange(n-1):\n",
        "              cid_i = i\n",
        "              for j in np.arange(i+1, n):\n",
        "                  s_linha = s\n",
        "                  s_linha[i] = s[j]\n",
        "                  s_linha[j] = cid_i\n",
        "                  fo_s_linha = calcula_fo(s_linha, matriz_dist)\n",
        "                  if (fo_s_linha < melhor_fo):\n",
        "                      melhor_fo = fo_s_linha\n",
        "                      melhor_troca = (cid_i, j)\n",
        "\n",
        "          if (melhor_fo < fo):\n",
        "            #Melhor solucao encontrada\n",
        "            cid_i = melhor_troca[0]\n",
        "            s[melhor_troca[0]] = melhor_troca[1]\n",
        "            s[melhor_troca[1]] = cid_i\n",
        "            fo = melhor_fo\n",
        "            melhor_fo = -1*np.sum(matriz_dist)  ## para continuar busca\n",
        "\n",
        "    return s, calcula_fo(s, matriz_dist)\n",
        "    ## descida_bi\n"
      ],
      "metadata": {
        "id": "BVzDih3UnCKW"
      },
      "execution_count": 29,
      "outputs": []
    },
    {
      "cell_type": "code",
      "source": [
        "def le_arq_vetor(arquivo, dtype = int):\n",
        "    v = []\n",
        "    with open(arquivo, \"r\") as arquivo:\n",
        "      linhas = arquivo.readlines()\n",
        "      #print(linhas)\n",
        "    for linha in linhas:\n",
        "        aux = linha.split(' ')\n",
        "        for num in aux:\n",
        "           if dtype == int:\n",
        "               v.append(int(num))\n",
        "           else:\n",
        "               v.append(float(num))\n",
        "    return np.array(v)\n",
        "\n",
        "\n",
        "# Constroi matriz quadrada (simétrica) de distâncias entre cidades\n",
        "def constroi_matriz_distancias(n, locals):\n",
        "    matriz_dist = np.zeros((n,n))\n",
        "    for i in range(n):\n",
        "      cidi = (locals[i,1],locals[i,2])\n",
        "      for j in range(i+1, n):\n",
        "          cidj = (locals[j,1],locals[j,2])\n",
        "          matriz_dist[i,j] = math.dist(cidi, cidj)\n",
        "          matriz_dist[j,i] = matriz_dist[i,j]\n",
        "    return matriz_dist\n",
        "\n",
        "\n",
        "# TODO: constroi uma solucao inicial aleatoria */\n",
        "def constroi_solucao_inicial_aleatoria(n, s, partida, matriz_dist):\n",
        "    return None\n",
        "\n",
        "# Constroi solução gulosa inicial gulosa (cidade mais próxima da atual)\n",
        "def constroi_solucao_inicial_gulosa(n, matriz_dist, partida=0):\n",
        "    s = np.zeros(matriz_dist.shape[-1])   # vetor solução do tamanho do número de cidades\n",
        "    cid_atual = partida\n",
        "    list_rota = [cid_atual]\n",
        "    fo = 0\n",
        "    for i in np.arange(1, n): #numero de cidades - 1\n",
        "          idxs_dist_crescente = np.argsort(matriz_dist[cid_atual,:])\n",
        "          for cid in idxs_dist_crescente:\n",
        "              if (cid not in list_rota) and (cid != cid_atual):\n",
        "                   list_rota.append(cid)\n",
        "                   s[cid] = i\n",
        "                   fo+= matriz_dist[cid_atual, cid]\n",
        "                   cid_atual = cid\n",
        "                   break  # primeira cidade de menor distancia\n",
        "    fo+= matriz_dist[cid_atual, partida]\n",
        "    return (s, fo)\n",
        "\n",
        "# Escreve rota da solução\n",
        "def escreve_rota(s):\n",
        "  rota = [str(i) + \"-\" for i in np.argsort(s)]\n",
        "  rota.append(str(int(s[0])))\n",
        "  return rota\n",
        "\n",
        "# Calcula função objetivo\n",
        "def calcula_fo(s, matriz_dist):\n",
        "    fo = 0\n",
        "    idx_rota_ordenado = np.argsort(s)\n",
        "    for i in np.arange(s.shape[-1]-1):   #até a penúltima cidade\n",
        "        fo+= matriz_dist[idx_rota_ordenado[i], idx_rota_ordenado[i+1]]\n",
        "    fo+=matriz_dist[idx_rota_ordenado[-1], idx_rota_ordenado[0]]\n",
        "    return fo\n",
        "\n",
        "## inverte bit\n",
        "def invert_bit(bit):\n",
        "   if (bit):\n",
        "      return 0\n",
        "   else:\n",
        "      return 1"
      ],
      "metadata": {
        "id": "_5OfdVTL9vpL"
      },
      "execution_count": 30,
      "outputs": []
    },
    {
      "cell_type": "code",
      "source": [
        "## Inicializações\n",
        "MaxIter = 100   # número máximo de iterações para busca de soluções aleatórios\n",
        "\n",
        "# Lê arquivos para o problema do caixeiro viajange\n",
        "## Formato C..INFO.txt: n_cidades,  fo_solução_otima (menor distancia)\n",
        "dados = le_arq_vetor(\"/content/C50INFO.TXT\", dtype=float)     #arq de informações sobre o no. de cidades e solução ótima (em distancia)\n",
        "n = int(dados[0])\n",
        "fo_better = float(dados[1])\n",
        "\n",
        "## Formado C..txt:\n",
        "# num_cidade   X   Y  (onde X,Y são as coordenadas de localização para cada cidade)\n",
        "locals = le_arq_vetor(\"/content/C50.TXT\", dtype = float)\n",
        "locals = locals.reshape((n,3))\n",
        "\n",
        "n = 5 #teste\n",
        "\n",
        "## constroi matriz de distâncias\n",
        "matriz_dist = constroi_matriz_distancias(n, locals)\n",
        "\n",
        "#penalidade =  calcula_penalidade() ##\n",
        "\n",
        "# variáveis p/ cálculo da solução\n",
        "s = np.zeros(n)                       ## solução corrente\n",
        "s_star = np.zeros(n)                  ## melhor solução\n",
        "fo = None                             ## funcao objetivo corrente\n",
        "fo_star = None                        ## melhor funcao objetivo\n",
        "inv = 0                              ## quantidade de inviabilidade da solucao corrente\n",
        "\n",
        "print('Comprimento da rota ótima: ', fo_better)\n",
        "print('Formato da matriz de distâncias: ', matriz_dist.shape)"
      ],
      "metadata": {
        "colab": {
          "base_uri": "https://localhost:8080/"
        },
        "id": "YVrxwHd-59WB",
        "outputId": "78e6f85e-b285-468e-fe0e-c8309eed89ee"
      },
      "execution_count": 34,
      "outputs": [
        {
          "output_type": "stream",
          "name": "stdout",
          "text": [
            "Comprimento da rota ótima:  429.98\n",
            "Formato da matriz de distâncias:  (5, 5)\n"
          ]
        }
      ]
    },
    {
      "cell_type": "markdown",
      "source": [
        "## Solução inicial"
      ],
      "metadata": {
        "id": "OZwh_bXJm1FZ"
      }
    },
    {
      "cell_type": "code",
      "source": [
        "partida = 3\n",
        "s, fo = constroi_solucao_inicial_gulosa(n, matriz_dist)\n",
        "\n",
        "print(\"\\n-------------------------------------------------\")\n",
        "print(\"Solução inicial  gulosa: \",  *escreve_rota(s))\n",
        "print(\"Funcao objetivo (custo - comprimento do caminho): \", fo)\n",
        "print(\"-------------------------------------------------\\n\")"
      ],
      "metadata": {
        "colab": {
          "base_uri": "https://localhost:8080/"
        },
        "id": "seovh1Lo8R3x",
        "outputId": "f1b31c76-67d4-4234-fc5c-da645e8212b0"
      },
      "execution_count": 36,
      "outputs": [
        {
          "output_type": "stream",
          "name": "stdout",
          "text": [
            "\n",
            "-------------------------------------------------\n",
            "Solução inicial  gulosa:  0- 1- 2- 3- 4- 0\n",
            "Funcao objetivo (custo - comprimento do caminho):  108.44243933466328\n",
            "-------------------------------------------------\n",
            "\n"
          ]
        }
      ]
    },
    {
      "cell_type": "markdown",
      "source": [
        "## Heurísticas de refinamento: método da descida\n",
        "* descida - best improvement\n",
        "* first improvement\n",
        "* descida aleatória\n"
      ],
      "metadata": {
        "id": "yGktqAhKm9U_"
      }
    },
    {
      "cell_type": "code",
      "source": [
        " descida_bi(n, s, fo, matriz_dist)"
      ],
      "metadata": {
        "colab": {
          "base_uri": "https://localhost:8080/"
        },
        "id": "qEqtjGebov4z",
        "outputId": "c7e28735-1074-4226-ee95-e5fd0df87486"
      },
      "execution_count": 37,
      "outputs": [
        {
          "output_type": "execute_result",
          "data": {
            "text/plain": [
              "(array([4., 0., 1., 2., 3.]), np.float64(108.44243933466329))"
            ]
          },
          "metadata": {},
          "execution_count": 37
        }
      ]
    },
    {
      "cell_type": "markdown",
      "source": [
        "#### Atividades de fixação (avaliada):"
      ],
      "metadata": {
        "id": "umKKOSTSDPff"
      }
    },
    {
      "cell_type": "markdown",
      "source": [
        "1. Corrija o erro em calcula_bi e altere a função gera_melhor_vizinho para fazer o cálculo de maneira inteligente para s' gerada.\n",
        "\n",
        "2. A implementação da lógica para da descida first improvement?\n",
        "\n",
        "3. Implemente o código das funções abaixo:\n",
        " * Construção de solução inicial aleatoria\n",
        "\n",
        "4. Implemente a perturbação e o refinamento aleatório para uma solução inicial do problema\n",
        "\n",
        "5. Compare tempos de execução para cada um dos experimentos abaixo:\n",
        "- Solução inicial gulosa e refinamento Best Improvement\n",
        "- Solução inicial gulosa e refinamento Fist Improvement\n",
        "- Solução inicial aleatópria e Best Improvement\n",
        "\n",
        "6. Em um gráfico plote os tempos de execução para cada um dos experimentos da questão 4. Use o mesmo método para plotar os pontos relativos ao custo da solução final encontrada.\n",
        "\n",
        "Compare suas respostas com a melhor solução para o TSP com 50 cidades (arquivo disponível)\n",
        "\n",
        "\n",
        "\n"
      ],
      "metadata": {
        "id": "J6Gon5__Dffc"
      }
    }
  ],
  "metadata": {
    "colab": {
      "provenance": [],
      "authorship_tag": "ABX9TyNgEbAWvQHKEeMAO4RjwkkV",
      "include_colab_link": true
    },
    "kernelspec": {
      "display_name": "Python 3",
      "name": "python3"
    },
    "language_info": {
      "name": "python"
    }
  },
  "nbformat": 4,
  "nbformat_minor": 0
}