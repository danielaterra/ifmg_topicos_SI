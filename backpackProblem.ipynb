{
  "cells": [
    {
      "cell_type": "markdown",
      "metadata": {
        "id": "view-in-github",
        "colab_type": "text"
      },
      "source": [
        "<a href=\"https://colab.research.google.com/github/danielaterra/ifmg_topicos_SI/blob/main/backpackProblem.ipynb\" target=\"_parent\"><img src=\"https://colab.research.google.com/assets/colab-badge.svg\" alt=\"Open In Colab\"/></a>"
      ]
    },
    {
      "cell_type": "markdown",
      "metadata": {
        "id": "bfVZRn3g4wWf"
      },
      "source": [
        "###  Problema da mochila\n",
        "Solução baseada nos códigos disponíveis em: http://www.decom.ufop.br/prof/marcone/Disciplinas/InteligenciaComputacional/Aula%20IC%2018-09-2003.zip\n",
        "\n",
        "**Profa. Daniela Costa Terra**"
      ]
    },
    {
      "cell_type": "code",
      "execution_count": null,
      "metadata": {
        "id": "q30_Tpqo4aI_"
      },
      "outputs": [],
      "source": [
        "import sys\n",
        "import numpy as np  # importa o pacote com 'alias' ou apelido\n",
        "import matplotlib.pyplot as plt    # o módulo pyplot, parte do matplotlib, como plt\n",
        "np.random.seed(1000)    ## produz o mesmos numeros a cada execução"
      ]
    },
    {
      "cell_type": "code",
      "source": [
        "from google.colab import files\n",
        "uploaded = files.upload()    ## faça upload dos arquivos disponibilizados"
      ],
      "metadata": {
        "colab": {
          "base_uri": "https://localhost:8080/",
          "height": 56
        },
        "id": "VgCeNxKSIast",
        "outputId": "e531f77a-35e5-4629-d9ba-0d3a34301ebd"
      },
      "execution_count": 130,
      "outputs": [
        {
          "output_type": "display_data",
          "data": {
            "text/plain": [
              "<IPython.core.display.HTML object>"
            ],
            "text/html": [
              "\n",
              "     <input type=\"file\" id=\"files-f8ce1a25-d78a-4ebc-8edd-21cd7934a483\" name=\"files[]\" multiple disabled\n",
              "        style=\"border:none\" />\n",
              "     <output id=\"result-f8ce1a25-d78a-4ebc-8edd-21cd7934a483\">\n",
              "      Upload widget is only available when the cell has been executed in the\n",
              "      current browser session. Please rerun this cell to enable.\n",
              "      </output>\n",
              "      <script>// Copyright 2017 Google LLC\n",
              "//\n",
              "// Licensed under the Apache License, Version 2.0 (the \"License\");\n",
              "// you may not use this file except in compliance with the License.\n",
              "// You may obtain a copy of the License at\n",
              "//\n",
              "//      http://www.apache.org/licenses/LICENSE-2.0\n",
              "//\n",
              "// Unless required by applicable law or agreed to in writing, software\n",
              "// distributed under the License is distributed on an \"AS IS\" BASIS,\n",
              "// WITHOUT WARRANTIES OR CONDITIONS OF ANY KIND, either express or implied.\n",
              "// See the License for the specific language governing permissions and\n",
              "// limitations under the License.\n",
              "\n",
              "/**\n",
              " * @fileoverview Helpers for google.colab Python module.\n",
              " */\n",
              "(function(scope) {\n",
              "function span(text, styleAttributes = {}) {\n",
              "  const element = document.createElement('span');\n",
              "  element.textContent = text;\n",
              "  for (const key of Object.keys(styleAttributes)) {\n",
              "    element.style[key] = styleAttributes[key];\n",
              "  }\n",
              "  return element;\n",
              "}\n",
              "\n",
              "// Max number of bytes which will be uploaded at a time.\n",
              "const MAX_PAYLOAD_SIZE = 100 * 1024;\n",
              "\n",
              "function _uploadFiles(inputId, outputId) {\n",
              "  const steps = uploadFilesStep(inputId, outputId);\n",
              "  const outputElement = document.getElementById(outputId);\n",
              "  // Cache steps on the outputElement to make it available for the next call\n",
              "  // to uploadFilesContinue from Python.\n",
              "  outputElement.steps = steps;\n",
              "\n",
              "  return _uploadFilesContinue(outputId);\n",
              "}\n",
              "\n",
              "// This is roughly an async generator (not supported in the browser yet),\n",
              "// where there are multiple asynchronous steps and the Python side is going\n",
              "// to poll for completion of each step.\n",
              "// This uses a Promise to block the python side on completion of each step,\n",
              "// then passes the result of the previous step as the input to the next step.\n",
              "function _uploadFilesContinue(outputId) {\n",
              "  const outputElement = document.getElementById(outputId);\n",
              "  const steps = outputElement.steps;\n",
              "\n",
              "  const next = steps.next(outputElement.lastPromiseValue);\n",
              "  return Promise.resolve(next.value.promise).then((value) => {\n",
              "    // Cache the last promise value to make it available to the next\n",
              "    // step of the generator.\n",
              "    outputElement.lastPromiseValue = value;\n",
              "    return next.value.response;\n",
              "  });\n",
              "}\n",
              "\n",
              "/**\n",
              " * Generator function which is called between each async step of the upload\n",
              " * process.\n",
              " * @param {string} inputId Element ID of the input file picker element.\n",
              " * @param {string} outputId Element ID of the output display.\n",
              " * @return {!Iterable<!Object>} Iterable of next steps.\n",
              " */\n",
              "function* uploadFilesStep(inputId, outputId) {\n",
              "  const inputElement = document.getElementById(inputId);\n",
              "  inputElement.disabled = false;\n",
              "\n",
              "  const outputElement = document.getElementById(outputId);\n",
              "  outputElement.innerHTML = '';\n",
              "\n",
              "  const pickedPromise = new Promise((resolve) => {\n",
              "    inputElement.addEventListener('change', (e) => {\n",
              "      resolve(e.target.files);\n",
              "    });\n",
              "  });\n",
              "\n",
              "  const cancel = document.createElement('button');\n",
              "  inputElement.parentElement.appendChild(cancel);\n",
              "  cancel.textContent = 'Cancel upload';\n",
              "  const cancelPromise = new Promise((resolve) => {\n",
              "    cancel.onclick = () => {\n",
              "      resolve(null);\n",
              "    };\n",
              "  });\n",
              "\n",
              "  // Wait for the user to pick the files.\n",
              "  const files = yield {\n",
              "    promise: Promise.race([pickedPromise, cancelPromise]),\n",
              "    response: {\n",
              "      action: 'starting',\n",
              "    }\n",
              "  };\n",
              "\n",
              "  cancel.remove();\n",
              "\n",
              "  // Disable the input element since further picks are not allowed.\n",
              "  inputElement.disabled = true;\n",
              "\n",
              "  if (!files) {\n",
              "    return {\n",
              "      response: {\n",
              "        action: 'complete',\n",
              "      }\n",
              "    };\n",
              "  }\n",
              "\n",
              "  for (const file of files) {\n",
              "    const li = document.createElement('li');\n",
              "    li.append(span(file.name, {fontWeight: 'bold'}));\n",
              "    li.append(span(\n",
              "        `(${file.type || 'n/a'}) - ${file.size} bytes, ` +\n",
              "        `last modified: ${\n",
              "            file.lastModifiedDate ? file.lastModifiedDate.toLocaleDateString() :\n",
              "                                    'n/a'} - `));\n",
              "    const percent = span('0% done');\n",
              "    li.appendChild(percent);\n",
              "\n",
              "    outputElement.appendChild(li);\n",
              "\n",
              "    const fileDataPromise = new Promise((resolve) => {\n",
              "      const reader = new FileReader();\n",
              "      reader.onload = (e) => {\n",
              "        resolve(e.target.result);\n",
              "      };\n",
              "      reader.readAsArrayBuffer(file);\n",
              "    });\n",
              "    // Wait for the data to be ready.\n",
              "    let fileData = yield {\n",
              "      promise: fileDataPromise,\n",
              "      response: {\n",
              "        action: 'continue',\n",
              "      }\n",
              "    };\n",
              "\n",
              "    // Use a chunked sending to avoid message size limits. See b/62115660.\n",
              "    let position = 0;\n",
              "    do {\n",
              "      const length = Math.min(fileData.byteLength - position, MAX_PAYLOAD_SIZE);\n",
              "      const chunk = new Uint8Array(fileData, position, length);\n",
              "      position += length;\n",
              "\n",
              "      const base64 = btoa(String.fromCharCode.apply(null, chunk));\n",
              "      yield {\n",
              "        response: {\n",
              "          action: 'append',\n",
              "          file: file.name,\n",
              "          data: base64,\n",
              "        },\n",
              "      };\n",
              "\n",
              "      let percentDone = fileData.byteLength === 0 ?\n",
              "          100 :\n",
              "          Math.round((position / fileData.byteLength) * 100);\n",
              "      percent.textContent = `${percentDone}% done`;\n",
              "\n",
              "    } while (position < fileData.byteLength);\n",
              "  }\n",
              "\n",
              "  // All done.\n",
              "  yield {\n",
              "    response: {\n",
              "      action: 'complete',\n",
              "    }\n",
              "  };\n",
              "}\n",
              "\n",
              "scope.google = scope.google || {};\n",
              "scope.google.colab = scope.google.colab || {};\n",
              "scope.google.colab._files = {\n",
              "  _uploadFiles,\n",
              "  _uploadFilesContinue,\n",
              "};\n",
              "})(self);\n",
              "</script> "
            ]
          },
          "metadata": {}
        },
        {
          "output_type": "stream",
          "name": "stdout",
          "text": [
            "Saving peso50.txt to peso50.txt\n"
          ]
        }
      ]
    },
    {
      "cell_type": "code",
      "source": [
        "def le_arq_vetor(arquivo):\n",
        "    v = []\n",
        "    with open(arquivo, \"r\") as arquivo:\n",
        "      linhas = arquivo.readlines()\n",
        "      #print(linhas)\n",
        "    for linha in linhas:\n",
        "        v.append(int(linha))\n",
        "    return np.array(v)\n",
        "\n",
        "# Retorna indexes dos itens ordenados usando sortarg e numpy array estruturado no formato (benefício, peso)\n",
        "def retorna_idx_itens_ordenados_descrescente(p, w):\n",
        "    ## Constroi array estruturado no formato (benefício, peso)\n",
        "    struct = np.array([(pi, wi) for pi, wi in zip(p,-1*w)],dtype = [('value', 'f4'), ('weigth', 'f4')])\n",
        "    idx = np.argsort(struct, order=['value','weigth'])\n",
        "    return idx[::-1]\n",
        "\n",
        "# TODO: constroi uma solucao inicial aleatoria */\n",
        "def constroi_solucao_inicial_aleatoria(s, num_objetos):\n",
        "    return None\n",
        "\n",
        "# Constroi solução gulosa inicial gulosa com base no valor do item (p)\n",
        "#.          e em ordem descendente de peso (w)\n",
        "def constroi_solucao_inicial_gulosa(n, s, p, w, b):\n",
        "    sorted_idx = retorna_idx_itens_ordenados_descrescente(p, w)\n",
        "    peso_objetos = 0\n",
        "    valor_objetos = 0\n",
        "    for index in sorted_idx:\n",
        "        if (peso_objetos + w[index]) <= b:\n",
        "            s[index] = 1 # inclusão do item na posição i (bit = 1)\n",
        "            peso_objetos += w[index]\n",
        "            valor_objetos += p[index]\n",
        "            print('Solução: ', s, ' adicionada do item ', index, ' peso = ', w[index], ' valor:', p[index], ' valor atual: ', valor_objetos)\n",
        "        else:\n",
        "             if peso_objetos == b or (w[index] > (peso_objetos - b)):\n",
        "                 break;  ## capacidade máxima atingida\n",
        "             print('Para a solução: ', s, ' a inclusão do item ', index, ' peso = ', w[index], ' ultrapassa a capacidade - peso atual:', peso_objetos)\n",
        "             ## analisa próximo item\n",
        "    return (s, valor_objetos, peso_objetos)\n",
        "\n",
        "# Constroi solução gulosa baseada no valor relativo do item (p/w : valor/peso)\n",
        "# def constroi_solucao_gulosa(n, s, p, w, b):\n",
        "#\n",
        "\n",
        "\n",
        "## calcula penalidade por exceder a capacidade da mochila */\n",
        "def calcula_penalidade(w, num_objetos):\n",
        "    return np.sum(np.array(w))  ##  alpha da penalidade por superar capacidade\n",
        "\n",
        "## Calcula peso objetos\n",
        "def calcula_peso_objetos(s, w):\n",
        "    return np.sum(s*w)\n",
        "\n",
        "## calcula o excesso de peso na mochila\n",
        "def  calcula_inviabilidade(peso_objetos, capacidade):\n",
        "     return max(0, peso_objetos - capacidade);\n",
        "\n",
        "## calcula a funcao objetivo\n",
        "def calcula_fo(s, p, w, penalidade, capacidade):\n",
        "    peso = np.sum(np.multiply(s, w))\n",
        "    inv = max(0, peso - capacidade)\n",
        "    beneficio = np.sum(s * p)\n",
        "    return beneficio - (penalidade * inv)\n",
        "\n",
        "## inverte bit\n",
        "def invert_bit(bit):\n",
        "   if (bit):\n",
        "      return 0\n",
        "   else:\n",
        "      return 1"
      ],
      "metadata": {
        "id": "_5OfdVTL9vpL"
      },
      "execution_count": null,
      "outputs": []
    },
    {
      "cell_type": "code",
      "source": [
        "## Inicializações\n",
        "MaxIter = 100;                        # número máximo de iterações para busca de soluções aleatórios\n",
        "#w = le_arq_vetor(\"peso50.txt\")       #vetor de pesos de cada objeto\n",
        "#p = le_arq_vetor(\"beneficio50.txt\")  #vetor de beneficio de cada objeto\n",
        "\n",
        "p =  np.array([2, 3, 4, 5, 1, 5, 4, 2, 3, 7])    #vetor de pesos de cada objeto\n",
        "w =  np.array([1, 3, 4, 1, 5, 2, 5, 4, 1, 1])    #vetor de beneficio de cada objeto\n",
        "\n",
        "\n",
        "n = len(w);                           ## numero de objetos disponíveis para inserção\n",
        "b = 8;                                ## capacidade da mochila\n",
        "penalidade =  calcula_penalidade(w,n) ##  alpha da penalidade por superar a capacidade da mochila\n",
        "\n",
        "# variáveis p/ cálculo da solução\n",
        "s = np.zeros(n)                       ## solução corrente\n",
        "s_star = np.zeros(n)                  ## melhor solução\n",
        "peso_objetos = 0.                     ## peso dos objetos na solucao corrente\n",
        "fo = None                             ## funcao objetivo corrente\n",
        "fo_star = None                        ## melhor funcao objetivo\n",
        "inv = 0.                              ## quantidade de inviabilidade da solucao corrente\n",
        "\n",
        "print(p)\n",
        "print(w)\n",
        "print(penalidade, np.sum(p), np.sum(w))"
      ],
      "metadata": {
        "colab": {
          "base_uri": "https://localhost:8080/"
        },
        "id": "YVrxwHd-59WB",
        "outputId": "2f9faa1e-e67d-4ad4-d47d-80c3f3626314"
      },
      "execution_count": null,
      "outputs": [
        {
          "output_type": "stream",
          "name": "stdout",
          "text": [
            "[2 3 4 5 1 5 4 2 3 7]\n",
            "[1 3 4 1 5 2 5 4 1 1]\n",
            "27 36 27\n"
          ]
        }
      ]
    },
    {
      "cell_type": "markdown",
      "source": [
        "## Solução inicial"
      ],
      "metadata": {
        "id": "OZwh_bXJm1FZ"
      }
    },
    {
      "cell_type": "code",
      "source": [
        "\n",
        "s, fo , peso_objetos = constroi_solucao_inicial_gulosa(n, s, p, w, b)\n",
        "inv = calcula_inviabilidade(peso_objetos, b)\n",
        "fo =  calcula_fo(s, p, inv, calcula_penalidade(w, n), b)\n",
        "\n",
        "print(\"\\n-------------------------------------------------\")\n",
        "print(\"Solução inicial  gulosa: \", s)\n",
        "print(\"Funcao objetivo: \", fo)\n",
        "print(\"Peso da mochila: \", peso_objetos,  \" \\nInviabilidade = \", np.max(0,(peso_objetos - b)))\n",
        "print(\"-------------------------------------------------\\n\")"
      ],
      "metadata": {
        "colab": {
          "base_uri": "https://localhost:8080/"
        },
        "id": "seovh1Lo8R3x",
        "outputId": "9a2c7de1-52ba-4ea1-e196-f2611c73362b"
      },
      "execution_count": null,
      "outputs": [
        {
          "output_type": "stream",
          "name": "stdout",
          "text": [
            "Solução:  [0. 0. 0. 0. 0. 0. 0. 0. 0. 1.]  adicionada do item  9  peso =  1  valor: 7  valor atual:  7\n",
            "Solução:  [0. 0. 0. 1. 0. 0. 0. 0. 0. 1.]  adicionada do item  3  peso =  1  valor: 5  valor atual:  12\n",
            "Solução:  [0. 0. 0. 1. 0. 1. 0. 0. 0. 1.]  adicionada do item  5  peso =  2  valor: 5  valor atual:  17\n",
            "Solução:  [0. 0. 1. 1. 0. 1. 0. 0. 0. 1.]  adicionada do item  2  peso =  4  valor: 4  valor atual:  21\n",
            "\n",
            "-------------------------------------------------\n",
            "Solução inicial  gulosa:  [0. 0. 1. 1. 0. 1. 0. 0. 0. 1.]\n",
            "Funcao objetivo:  21.0\n",
            "Peso da mochila:  8  \n",
            "Inviabilidade =  0\n",
            "-------------------------------------------------\n",
            "\n"
          ]
        }
      ]
    },
    {
      "cell_type": "code",
      "source": [
        "p, w"
      ],
      "metadata": {
        "colab": {
          "base_uri": "https://localhost:8080/"
        },
        "id": "gQiFyKMKtRb0",
        "outputId": "2dbfdd91-cc39-43c8-88a4-fe382c727213"
      },
      "execution_count": null,
      "outputs": [
        {
          "output_type": "execute_result",
          "data": {
            "text/plain": [
              "(array([2, 3, 4, 5, 1, 5, 4, 2, 3, 7]), array([1, 3, 4, 1, 5, 2, 5, 4, 1, 1]))"
            ]
          },
          "metadata": {},
          "execution_count": 126
        }
      ]
    },
    {
      "cell_type": "markdown",
      "source": [
        "## Heurísticas de refinamento: método da descida\n",
        "* descida - best improvement\n",
        "* first improvement\n",
        "* descida aleatória\n"
      ],
      "metadata": {
        "id": "yGktqAhKm9U_"
      }
    },
    {
      "cell_type": "code",
      "source": [
        "#TODO: def randomicodescida(n, s, p, w, b, penalidade, peso_objetos, fo, MaxIter=100):\n",
        "\n",
        "#     print(\" ********** Falta implementar ************* \\n\")\n",
        "\n",
        "#     print(\"-------------------------------------------------\\n\")\n",
        "#     print(\"Melhor solucao encontrada pelo Metodo Randomico de descida:\\n\")\n",
        "#     print(\"Funcao objetivo: %d\\n\", fo)\n",
        "#     print(\"Peso da mochila: %d    Inviabilidade = ... \\n\",   )\n",
        "#     print(\"-------------------------------------------------\\n\")\n",
        "\n",
        "#TODO: def descida_fi(n, s, p, w, b, penalidade, peso_objetos, fo):\n",
        "\n",
        "#     print(\" ********** Falta implementar ************* \\n\")\n",
        "\n",
        "#     print(\"-------------------------------------------------\\n\")\n",
        "#     print(\"Melhor solucao encontrada pelo Metodo da descida - first improvment:\\n\")\n",
        "#     print(\"Funcao objetivo: %d\\n\", fo)\n",
        "#     print(\"Peso da mochila: %d    Inviabilidade = ... \\n\",   )\n",
        "#     print(\"-------------------------------------------------\\n\")\n",
        "\n",
        "\n",
        "##  Best Improvment\n",
        "def descida_bi(n, s, p, w, b, penalidade, peso_objetos, fo):\n",
        "    melhor_delta = sys.maxsize   ## Pega o inteiro máximo para a arquitetura (32 ou 64 bits)\n",
        "\n",
        "    while (melhor_delta > 0):    ## while 1 (True)\n",
        "        melhor_delta = -sys.maxsize\n",
        "        ## Gera vizinhos: movimento -  troca valor dos bits\n",
        "        for j in np.arange(n):\n",
        "            s_linha = s.copy()\n",
        "            s_linha[j] = (s[j] + 1) %2  ## Troca o valor do bit j em s_linha\n",
        "\n",
        "            ### Calcula valor de s_linha e a melhoria (delta)\n",
        "            fo_linha = calcula_fo(s_linha, p, w, penalidade, b)\n",
        "            delta = fo_linha - fo\n",
        "            print('Delta: ', delta)\n",
        "\n",
        "            if (delta > melhor_delta):  ## if True\n",
        "                melhor_delta = delta    ## delta solucao melhorada\n",
        "                melhor_posicao = j      ## bit solução melhorada\n",
        "                print('Movimento salvo(s, s_linha, delta): ', s, s_linha, j, delta)\n",
        "\n",
        "        ## fim for para vizinhança\n",
        "        if (melhor_delta > 0):  ## se encontrou delta melhorado\n",
        "            fo = fo + melhor_delta\n",
        "            s[melhor_posicao] =  (s[melhor_posicao] + 1) %2   ## s <-- s'\n",
        "            peso_objetos = calcula_peso_objetos(s, w)         ## soma peso na mochila\n",
        "            print(\"\\n Melhor solução encontrada na vizinhança anterior: \", s, ', fo:', fo, 'peso mochila: ', peso_objetos)\n",
        "        ##\n",
        "\n",
        "    print(\"\\n-------------------------------------------------\")\n",
        "    print(\"Melhor solucao encontrada pelo Metodo da descida 1 Optimal: \", s)\n",
        "    print(\"Funcao objetivo: \", fo)\n",
        "    print(\"Peso da mochila: \", peso_objetos,  \" \\nInviabilidade = \", np.max(0,(peso_objetos - b)))\n",
        "    print(\"-------------------------------------------------\\n\")\n",
        "    ## descida_bi\n"
      ],
      "metadata": {
        "id": "BVzDih3UnCKW"
      },
      "execution_count": null,
      "outputs": []
    },
    {
      "cell_type": "code",
      "source": [
        " descida_bi(n, s, p, w, b, penalidade, peso_objetos, fo)\n"
      ],
      "metadata": {
        "colab": {
          "base_uri": "https://localhost:8080/"
        },
        "id": "qEqtjGebov4z",
        "outputId": "aaf0a341-f42c-4d49-ed81-8afc2a03530c"
      },
      "execution_count": null,
      "outputs": [
        {
          "output_type": "stream",
          "name": "stdout",
          "text": [
            "Delta:  -25.0\n",
            "Movimento salvo(s, s_linha, delta):  [0. 0. 1. 1. 0. 1. 0. 0. 0. 1.] [1. 0. 1. 1. 0. 1. 0. 0. 0. 1.] 0 -25.0\n",
            "Delta:  -78.0\n",
            "Delta:  -4.0\n",
            "Movimento salvo(s, s_linha, delta):  [0. 0. 1. 1. 0. 1. 0. 0. 0. 1.] [0. 0. 0. 1. 0. 1. 0. 0. 0. 1.] 2 -4.0\n",
            "Delta:  -5.0\n",
            "Delta:  -134.0\n",
            "Delta:  -5.0\n",
            "Delta:  -131.0\n",
            "Delta:  -106.0\n",
            "Delta:  -24.0\n",
            "Delta:  -7.0\n",
            "\n",
            "-------------------------------------------------\n",
            "Melhor solucao encontrada pelo Metodo da descida 1 Optimal:  [0. 0. 1. 1. 0. 1. 0. 0. 0. 1.]\n",
            "Funcao objetivo:  21.0\n",
            "Peso da mochila:  8  \n",
            "Inviabilidade =  0\n",
            "-------------------------------------------------\n",
            "\n"
          ]
        }
      ]
    },
    {
      "cell_type": "markdown",
      "source": [
        "#### Atividades de fixação (avaliada):"
      ],
      "metadata": {
        "id": "umKKOSTSDPff"
      }
    },
    {
      "cell_type": "markdown",
      "source": [
        "1. A implementação da lógica para best improvement da função descida_bi() está incorreta?\n",
        "    Resposta: o algoritmo da descida não está necessariamente incorreto.\n",
        "2. Porque a solução inicial nunca mudará com a execução da heurística de refinamento implementada na função descida_bi()? O que não irá funcionar?\n",
        "\n",
        "3. Descreva o quê deve ser alterado para que a solução produzida pela função descida_bi() produza uma solução melhorada. Preferencialmente implemente esta solução.\n",
        "\n",
        "4. Implemente o código com todas as funções comentadas com #TODO:\n",
        " * def constroi_solucao_inicial_aleatoria(s, num_objetos)\n",
        " * def randomicodescida(n, s, p, w, b, penalidade, peso_objetos, fo, MaxIter=100)\n",
        " * def descida_fi(n, s, p, w, b, penalidade, peso_objetos, fo)\n"
      ],
      "metadata": {
        "id": "J6Gon5__Dffc"
      }
    }
  ],
  "metadata": {
    "colab": {
      "provenance": [],
      "authorship_tag": "ABX9TyOXViVtDHaKVqX0FU3tkC3z",
      "include_colab_link": true
    },
    "kernelspec": {
      "display_name": "Python 3",
      "name": "python3"
    },
    "language_info": {
      "name": "python"
    }
  },
  "nbformat": 4,
  "nbformat_minor": 0
}